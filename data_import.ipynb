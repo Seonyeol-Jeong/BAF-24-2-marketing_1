{
 "cells": [
  {
   "cell_type": "code",
   "execution_count": 1,
   "metadata": {},
   "outputs": [
    {
     "name": "stdout",
     "output_type": "stream",
     "text": [
      "loading Roboflow workspace...\n",
      "loading Roboflow project...\n"
     ]
    }
   ],
   "source": [
    "from roboflow import Roboflow\n",
    "rf = Roboflow(api_key=\"TQSzrquryjgQeBOXeuKm\")\n",
    "project = rf.workspace(\"yun-mtrzl\").project(\"crawling2\")\n",
    "version = project.version(2)\n",
    "dataset = version.download(\"yolov5\")"
   ]
  },
  {
   "cell_type": "code",
   "execution_count": 2,
   "metadata": {},
   "outputs": [
    {
     "name": "stderr",
     "output_type": "stream",
     "text": [
      "fatal: destination path 'yolov5' already exists and is not an empty directory.\n"
     ]
    }
   ],
   "source": [
    "!git clone https://github.com/ultralytics/yolov5.git"
   ]
  },
  {
   "cell_type": "code",
   "execution_count": 3,
   "metadata": {},
   "outputs": [
    {
     "name": "stdout",
     "output_type": "stream",
     "text": [
      "c:\\Users\\wjdrl\\OneDrive - dgu.ac.kr\\데이터 분석\\비어플\\프로젝트 세션\\2024_2학기\\code\\yolov5\n"
     ]
    },
    {
     "name": "stderr",
     "output_type": "stream",
     "text": [
      "This is now an optional IPython functionality, setting dhist requires you to install the `pickleshare` library.\n"
     ]
    },
    {
     "name": "stdout",
     "output_type": "stream",
     "text": [
      "Requirement already satisfied: gitpython>=3.1.30 in c:\\users\\wjdrl\\anaconda3\\envs\\jsy\\lib\\site-packages (from -r requirements.txt (line 5)) (3.1.43)\n",
      "Requirement already satisfied: matplotlib>=3.3 in c:\\users\\wjdrl\\anaconda3\\envs\\jsy\\lib\\site-packages (from -r requirements.txt (line 6)) (3.9.2)\n",
      "Requirement already satisfied: numpy>=1.23.5 in c:\\users\\wjdrl\\anaconda3\\envs\\jsy\\lib\\site-packages (from -r requirements.txt (line 7)) (1.26.4)\n",
      "Requirement already satisfied: opencv-python>=4.1.1 in c:\\users\\wjdrl\\anaconda3\\envs\\jsy\\lib\\site-packages (from -r requirements.txt (line 8)) (4.10.0.84)\n",
      "Requirement already satisfied: pillow>=10.3.0 in c:\\users\\wjdrl\\anaconda3\\envs\\jsy\\lib\\site-packages (from -r requirements.txt (line 9)) (10.4.0)\n",
      "Requirement already satisfied: psutil in c:\\users\\wjdrl\\anaconda3\\envs\\jsy\\lib\\site-packages (from -r requirements.txt (line 10)) (5.9.0)\n",
      "Requirement already satisfied: PyYAML>=5.3.1 in c:\\users\\wjdrl\\anaconda3\\envs\\jsy\\lib\\site-packages (from -r requirements.txt (line 11)) (6.0.2)\n",
      "Requirement already satisfied: requests>=2.32.2 in c:\\users\\wjdrl\\anaconda3\\envs\\jsy\\lib\\site-packages (from -r requirements.txt (line 12)) (2.32.3)\n",
      "Requirement already satisfied: scipy>=1.4.1 in c:\\users\\wjdrl\\anaconda3\\envs\\jsy\\lib\\site-packages (from -r requirements.txt (line 13)) (1.14.1)\n",
      "Requirement already satisfied: thop>=0.1.1 in c:\\users\\wjdrl\\anaconda3\\envs\\jsy\\lib\\site-packages (from -r requirements.txt (line 14)) (0.1.1.post2209072238)\n",
      "Requirement already satisfied: torch>=1.8.0 in c:\\users\\wjdrl\\anaconda3\\envs\\jsy\\lib\\site-packages (from -r requirements.txt (line 15)) (2.5.1)\n",
      "Requirement already satisfied: torchvision>=0.9.0 in c:\\users\\wjdrl\\anaconda3\\envs\\jsy\\lib\\site-packages (from -r requirements.txt (line 16)) (0.20.1)\n",
      "Requirement already satisfied: tqdm>=4.66.3 in c:\\users\\wjdrl\\anaconda3\\envs\\jsy\\lib\\site-packages (from -r requirements.txt (line 17)) (4.66.6)\n",
      "Requirement already satisfied: ultralytics>=8.2.34 in c:\\users\\wjdrl\\anaconda3\\envs\\jsy\\lib\\site-packages (from -r requirements.txt (line 18)) (8.3.24)\n",
      "Requirement already satisfied: pandas>=1.1.4 in c:\\users\\wjdrl\\anaconda3\\envs\\jsy\\lib\\site-packages (from -r requirements.txt (line 27)) (2.2.3)\n",
      "Requirement already satisfied: seaborn>=0.11.0 in c:\\users\\wjdrl\\anaconda3\\envs\\jsy\\lib\\site-packages (from -r requirements.txt (line 28)) (0.13.2)\n",
      "Requirement already satisfied: setuptools>=70.0.0 in c:\\users\\wjdrl\\anaconda3\\envs\\jsy\\lib\\site-packages (from -r requirements.txt (line 42)) (75.1.0)\n",
      "Requirement already satisfied: gitdb<5,>=4.0.1 in c:\\users\\wjdrl\\anaconda3\\envs\\jsy\\lib\\site-packages (from gitpython>=3.1.30->-r requirements.txt (line 5)) (4.0.11)\n",
      "Requirement already satisfied: contourpy>=1.0.1 in c:\\users\\wjdrl\\anaconda3\\envs\\jsy\\lib\\site-packages (from matplotlib>=3.3->-r requirements.txt (line 6)) (1.3.0)\n",
      "Requirement already satisfied: cycler>=0.10 in c:\\users\\wjdrl\\anaconda3\\envs\\jsy\\lib\\site-packages (from matplotlib>=3.3->-r requirements.txt (line 6)) (0.12.1)\n",
      "Requirement already satisfied: fonttools>=4.22.0 in c:\\users\\wjdrl\\anaconda3\\envs\\jsy\\lib\\site-packages (from matplotlib>=3.3->-r requirements.txt (line 6)) (4.54.1)\n",
      "Requirement already satisfied: kiwisolver>=1.3.1 in c:\\users\\wjdrl\\anaconda3\\envs\\jsy\\lib\\site-packages (from matplotlib>=3.3->-r requirements.txt (line 6)) (1.4.7)\n",
      "Requirement already satisfied: packaging>=20.0 in c:\\users\\wjdrl\\anaconda3\\envs\\jsy\\lib\\site-packages (from matplotlib>=3.3->-r requirements.txt (line 6)) (24.1)\n",
      "Requirement already satisfied: pyparsing>=2.3.1 in c:\\users\\wjdrl\\anaconda3\\envs\\jsy\\lib\\site-packages (from matplotlib>=3.3->-r requirements.txt (line 6)) (3.1.4)\n",
      "Requirement already satisfied: python-dateutil>=2.7 in c:\\users\\wjdrl\\anaconda3\\envs\\jsy\\lib\\site-packages (from matplotlib>=3.3->-r requirements.txt (line 6)) (2.9.0.post0)\n",
      "Requirement already satisfied: charset-normalizer<4,>=2 in c:\\users\\wjdrl\\anaconda3\\envs\\jsy\\lib\\site-packages (from requests>=2.32.2->-r requirements.txt (line 12)) (3.3.2)\n",
      "Requirement already satisfied: idna<4,>=2.5 in c:\\users\\wjdrl\\anaconda3\\envs\\jsy\\lib\\site-packages (from requests>=2.32.2->-r requirements.txt (line 12)) (3.7)\n",
      "Requirement already satisfied: urllib3<3,>=1.21.1 in c:\\users\\wjdrl\\anaconda3\\envs\\jsy\\lib\\site-packages (from requests>=2.32.2->-r requirements.txt (line 12)) (2.2.3)\n",
      "Requirement already satisfied: certifi>=2017.4.17 in c:\\users\\wjdrl\\anaconda3\\envs\\jsy\\lib\\site-packages (from requests>=2.32.2->-r requirements.txt (line 12)) (2024.8.30)\n",
      "Requirement already satisfied: filelock in c:\\users\\wjdrl\\anaconda3\\envs\\jsy\\lib\\site-packages (from torch>=1.8.0->-r requirements.txt (line 15)) (3.16.1)\n",
      "Requirement already satisfied: typing-extensions>=4.8.0 in c:\\users\\wjdrl\\anaconda3\\envs\\jsy\\lib\\site-packages (from torch>=1.8.0->-r requirements.txt (line 15)) (4.12.2)\n",
      "Requirement already satisfied: networkx in c:\\users\\wjdrl\\anaconda3\\envs\\jsy\\lib\\site-packages (from torch>=1.8.0->-r requirements.txt (line 15)) (3.4.2)\n",
      "Requirement already satisfied: jinja2 in c:\\users\\wjdrl\\anaconda3\\envs\\jsy\\lib\\site-packages (from torch>=1.8.0->-r requirements.txt (line 15)) (3.1.4)\n",
      "Requirement already satisfied: fsspec in c:\\users\\wjdrl\\anaconda3\\envs\\jsy\\lib\\site-packages (from torch>=1.8.0->-r requirements.txt (line 15)) (2024.10.0)\n",
      "Requirement already satisfied: sympy==1.13.1 in c:\\users\\wjdrl\\anaconda3\\envs\\jsy\\lib\\site-packages (from torch>=1.8.0->-r requirements.txt (line 15)) (1.13.1)\n",
      "Requirement already satisfied: mpmath<1.4,>=1.1.0 in c:\\users\\wjdrl\\anaconda3\\envs\\jsy\\lib\\site-packages (from sympy==1.13.1->torch>=1.8.0->-r requirements.txt (line 15)) (1.3.0)\n",
      "Requirement already satisfied: colorama in c:\\users\\wjdrl\\anaconda3\\envs\\jsy\\lib\\site-packages (from tqdm>=4.66.3->-r requirements.txt (line 17)) (0.4.6)\n",
      "Requirement already satisfied: py-cpuinfo in c:\\users\\wjdrl\\anaconda3\\envs\\jsy\\lib\\site-packages (from ultralytics>=8.2.34->-r requirements.txt (line 18)) (9.0.0)\n",
      "Requirement already satisfied: ultralytics-thop>=2.0.0 in c:\\users\\wjdrl\\anaconda3\\envs\\jsy\\lib\\site-packages (from ultralytics>=8.2.34->-r requirements.txt (line 18)) (2.0.10)\n",
      "Requirement already satisfied: pytz>=2020.1 in c:\\users\\wjdrl\\anaconda3\\envs\\jsy\\lib\\site-packages (from pandas>=1.1.4->-r requirements.txt (line 27)) (2024.2)\n",
      "Requirement already satisfied: tzdata>=2022.7 in c:\\users\\wjdrl\\anaconda3\\envs\\jsy\\lib\\site-packages (from pandas>=1.1.4->-r requirements.txt (line 27)) (2024.2)\n",
      "Requirement already satisfied: smmap<6,>=3.0.1 in c:\\users\\wjdrl\\anaconda3\\envs\\jsy\\lib\\site-packages (from gitdb<5,>=4.0.1->gitpython>=3.1.30->-r requirements.txt (line 5)) (5.0.1)\n",
      "Requirement already satisfied: six>=1.5 in c:\\users\\wjdrl\\anaconda3\\envs\\jsy\\lib\\site-packages (from python-dateutil>=2.7->matplotlib>=3.3->-r requirements.txt (line 6)) (1.16.0)\n",
      "Requirement already satisfied: MarkupSafe>=2.0 in c:\\users\\wjdrl\\anaconda3\\envs\\jsy\\lib\\site-packages (from jinja2->torch>=1.8.0->-r requirements.txt (line 15)) (2.1.5)\n"
     ]
    }
   ],
   "source": [
    "%cd yolov5\n",
    "!pip install -r requirements.txt\n"
   ]
  },
  {
   "cell_type": "markdown",
   "metadata": {},
   "source": [
    "c:\\Users\\wjdrl\\OneDrive - dgu.ac.kr\\데이터 분석\\비어플\\프로젝트 세션\\2024_2학기\\code\\yolov5"
   ]
  }
 ],
 "metadata": {
  "kernelspec": {
   "display_name": "jsy",
   "language": "python",
   "name": "jsy"
  },
  "language_info": {
   "codemirror_mode": {
    "name": "ipython",
    "version": 3
   },
   "file_extension": ".py",
   "mimetype": "text/x-python",
   "name": "python",
   "nbconvert_exporter": "python",
   "pygments_lexer": "ipython3",
   "version": "3.12.5"
  }
 },
 "nbformat": 4,
 "nbformat_minor": 2
}
