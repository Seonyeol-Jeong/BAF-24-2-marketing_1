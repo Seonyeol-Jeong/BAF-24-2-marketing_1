{
 "cells": [
  {
   "cell_type": "code",
   "execution_count": 1,
   "metadata": {},
   "outputs": [],
   "source": [
    "import os"
   ]
  },
  {
   "cell_type": "code",
   "execution_count": 2,
   "metadata": {},
   "outputs": [],
   "source": [
    "# train set에 대한 하의 1 변경\n",
    "dataset_test = './Crawling2-2/train/labels'  # 텍스트 파일이 있는 폴더 경로\n",
    "\n",
    "# 폴더 내의 모든 텍스트 파일에 대해 작업\n",
    "for filename in os.listdir(dataset_test):\n",
    "    if filename.endswith(\".txt\"):\n",
    "        file_path = os.path.join(dataset_test, filename)\n",
    "\n",
    "        # 텍스트 파일 읽기\n",
    "        with open(file_path, 'r') as file:\n",
    "            lines = file.readlines()\n",
    "\n",
    "        # 두 번째 줄이 존재하고, 첫 번째 문자가 0일 경우 1로 변경\n",
    "        if len(lines) > 1 and lines[1][0] == '0':\n",
    "            lines[1] = '1' + lines[1][1:]\n",
    "\n",
    "        # 세 번째 줄이 존재할 경우, 세 번째 줄 이상에서 첫 번째 문자가 0인 경우 2로 변경\n",
    "        if len(lines) > 2:\n",
    "            for i in range(2, len(lines)):\n",
    "                if lines[i][0] == '0':\n",
    "                    lines[i] = '2' + lines[i][1:]\n",
    "\n",
    "        # 변경된 텍스트 파일 저장 (기존 파일 덮어쓰기)\n",
    "        with open(file_path, 'w') as file:\n",
    "            file.writelines(lines)"
   ]
  },
  {
   "cell_type": "code",
   "execution_count": 3,
   "metadata": {},
   "outputs": [],
   "source": [
    "# valid set에 대한 하의 1 변경\n",
    "dataset_test = './Crawling2-2/valid/labels'  # 텍스트 파일이 있는 폴더 경로\n",
    "\n",
    "# 폴더 내의 모든 텍스트 파일에 대해 작업\n",
    "for filename in os.listdir(dataset_test):\n",
    "    if filename.endswith(\".txt\"):\n",
    "        file_path = os.path.join(dataset_test, filename)\n",
    "\n",
    "        # 텍스트 파일 읽기\n",
    "        with open(file_path, 'r') as file:\n",
    "            lines = file.readlines()\n",
    "\n",
    "        # 두 번째 줄이 존재하고, 첫 번째 문자가 0일 경우 1로 변경\n",
    "        if len(lines) > 1 and lines[1][0] == '0':\n",
    "            lines[1] = '1' + lines[1][1:]\n",
    "\n",
    "        # 세 번째 줄이 존재할 경우, 세 번째 줄 이상에서 첫 번째 문자가 0인 경우 2로 변경\n",
    "        if len(lines) > 2:\n",
    "            for i in range(2, len(lines)):\n",
    "                if lines[i][0] == '0':\n",
    "                    lines[i] = '2' + lines[i][1:]\n",
    "\n",
    "        # 변경된 텍스트 파일 저장 (기존 파일 덮어쓰기)\n",
    "        with open(file_path, 'w') as file:\n",
    "            file.writelines(lines)"
   ]
  },
  {
   "cell_type": "code",
   "execution_count": 4,
   "metadata": {},
   "outputs": [],
   "source": [
    "# test set에 대한 하의 1 변경\n",
    "dataset_test = './Crawling2-2/test/labels'  # 텍스트 파일이 있는 폴더 경로\n",
    "\n",
    "# 폴더 내의 모든 텍스트 파일에 대해 작업\n",
    "for filename in os.listdir(dataset_test):\n",
    "    if filename.endswith(\".txt\"):\n",
    "        file_path = os.path.join(dataset_test, filename)\n",
    "\n",
    "        # 텍스트 파일 읽기\n",
    "        with open(file_path, 'r') as file:\n",
    "            lines = file.readlines()\n",
    "\n",
    "        # 두 번째 줄이 존재하고, 첫 번째 문자가 0일 경우 1로 변경\n",
    "        if len(lines) > 1 and lines[1][0] == '0':\n",
    "            lines[1] = '1' + lines[1][1:]\n",
    "\n",
    "        # 세 번째 줄이 존재할 경우, 세 번째 줄 이상에서 첫 번째 문자가 0인 경우 2로 변경\n",
    "        if len(lines) > 2:\n",
    "            for i in range(2, len(lines)):\n",
    "                if lines[i][0] == '0':\n",
    "                    lines[i] = '2' + lines[i][1:]\n",
    "\n",
    "        # 변경된 텍스트 파일 저장 (기존 파일 덮어쓰기)\n",
    "        with open(file_path, 'w') as file:\n",
    "            file.writelines(lines)"
   ]
  }
 ],
 "metadata": {
  "kernelspec": {
   "display_name": "jsy",
   "language": "python",
   "name": "jsy"
  },
  "language_info": {
   "codemirror_mode": {
    "name": "ipython",
    "version": 3
   },
   "file_extension": ".py",
   "mimetype": "text/x-python",
   "name": "python",
   "nbconvert_exporter": "python",
   "pygments_lexer": "ipython3",
   "version": "3.12.5"
  }
 },
 "nbformat": 4,
 "nbformat_minor": 2
}
